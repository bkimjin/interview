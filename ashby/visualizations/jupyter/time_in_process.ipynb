{
 "cells": [
  {
   "cell_type": "markdown",
   "metadata": {},
   "source": [
    "# Time In Process\n",
    "This Jupyter Notebook address the questions mentioned in the prompts for the Ashby take home test.  The questions are:\n",
    "1. What is the company's Time in Process? Is that good or bad?\n",
    "1. How is the company's Time in Process trending?\n",
    "1. How does the company's Time in Process vary across myriad segments?\n",
    "    - For example, Time in Proccess by department, location, application outcome, etc.\n",
    "1. What is the average or median Time in Process for specific stages or stage groups?\n",
    "\n",
    "Additional points to consider:\n",
    "- It is best to focus results and analysis at the stage group level.\n",
    "- It is common for a candidate's application to enter a given stage more than once.\n",
    "- While there is no bad data, data can be removed if it appears erroneous, but documentation is required for the removal.\n",
    "- Customer Success team doesn't have the ability to create their own datasets or visualization content, but can apply filters or updates to content provided for them."
   ]
  },
  {
   "cell_type": "markdown",
   "metadata": {},
   "source": [
    "## What is the company's Time in Process?\n",
    "\n",
    "Time in Process refers to the time a candidate takes to move through the interview pipeline. Time in Process (TiP) can be thought of as time in a specific stage or the total time spent in the process. TiP ends when a candidate is either archived or hired (however, a candidate can be unarchived).\n",
    "\n",
    "To answer this question, we want to find the average/median TiP. Finding the sum of TiP doesn't really make sense for this question, as it doesn't reveal anything about the process. Understanding the average/median TiP however, can helps to discover potential roadblocks for the job itself, or for the individual stages."
   ]
  },
  {
   "cell_type": "markdown",
   "metadata": {},
   "source": [
    "\n",
    "The questions for the Ashby assignment can be answered by the following:\n",
    "1. Overall TiP\n",
    "    - Application status must be archived or hired for the overal TiP\n",
    "        - Exclude applicants that are not completed because they may skew the result\n",
    "    1. Total TiP for archived and hired applicants\n",
    "        1. Filter by `stg_applications.status in ('archived', 'hired')`\n",
    "        1. Join `stg_applications.id = stg_stage_transitions.application_id`\n",
    "        1. Join `stg_interview_stages_and_groups.stage_id = stg_stage_transitions.new_stage_id`\n",
    "        1. Filter by `stg_interview_stages_and_groups.stage_group_type in ('archived', 'hired')`\n",
    "1. TiP per Stage\n",
    "    - Look at all stage transitions that have a left_stage_at column in stage_transactions\n",
    "    - May want to look at visuals for all applicants and also for applicants that have completed TiP.\n",
    "    - Even if an applicant goes back to a prior stage, assume that the stages are unique (count the stages as individual stages).\n",
    "        - Since going back to a prior stage may be the company's intention and not a mistake, it is not possible to assume it was a mistake.\n",
    "    1. Join `stg_applications.id = stg_stage_transitions.application_id`\n",
    "        - Get application data to understand change over time.\n",
    "    1. Join `stg_stage_transitions.new_stage_id = stg_interview_stages_and_groups.stage_id`\n",
    "    1. Filter `stg_stage_transitions.left_stage_at IS NOT NULL`\n",
    "        - Most likely will want to filter applicants that are not finished in the stage"
   ]
  },
  {
   "cell_type": "markdown",
   "metadata": {},
   "source": [
    "The other questions can be answered by the proper grouping of dimensions."
   ]
  },
  {
   "cell_type": "code",
   "execution_count": 74,
   "metadata": {},
   "outputs": [],
   "source": [
    "import duckdb\n",
    "\n",
    "db = duckdb.connect(\"../../database/ashby.db\", read_only = True)\n"
   ]
  },
  {
   "cell_type": "code",
   "execution_count": 42,
   "metadata": {},
   "outputs": [
    {
     "ename": "ConnectionException",
     "evalue": "Connection Error: Connection has already been closed",
     "output_type": "error",
     "traceback": [
      "\u001b[0;31m---------------------------------------------------------------------------\u001b[0m",
      "\u001b[0;31mConnectionException\u001b[0m                       Traceback (most recent call last)",
      "Cell \u001b[0;32mIn[42], line 1\u001b[0m\n\u001b[0;32m----> 1\u001b[0m \u001b[43mdb\u001b[49m\u001b[38;5;241;43m.\u001b[39;49m\u001b[43msql\u001b[49m\u001b[43m(\u001b[49m\u001b[38;5;124;43m\"\u001b[39;49m\u001b[38;5;124;43mselect * from stg_interview_stages_and_groups\u001b[39;49m\u001b[38;5;124;43m\"\u001b[39;49m\u001b[43m)\u001b[49m\u001b[38;5;241m.\u001b[39mshow()\n\u001b[1;32m      2\u001b[0m db\u001b[38;5;241m.\u001b[39mclose()\n",
      "\u001b[0;31mConnectionException\u001b[0m: Connection Error: Connection has already been closed"
     ]
    }
   ],
   "source": [
    "db.sql(\"select * from stg_interview_stages_and_groups\").show()\n",
    "db.close()"
   ]
  },
  {
   "cell_type": "code",
   "execution_count": 38,
   "metadata": {},
   "outputs": [
    {
     "name": "stdout",
     "output_type": "stream",
     "text": [
      "┌──────────────────────────────────────┬──────────────────────────────────────┬──────────────────────────────────────┬──────────────────────────────────────┬──────────────────────────────────────┬──────────────────────────────────────┬──────────────────────────────────────┬────────────────────────────┬──────────────────────────┬──────────┐\n",
      "│                  ID                  │          ARCHIVE_REASON_ID           │           ORGANIZATION_ID            │                JOB_ID                │             CANDIDATE_ID             │      CURRENT_INTERVIEW_STAGE_ID      │              SOURCE_ID               │         created_at         │     last_activity_at     │  status  │\n",
      "│               varchar                │               varchar                │               varchar                │               varchar                │               varchar                │               varchar                │               varchar                │  timestamp with time zone  │ timestamp with time zone │ varchar  │\n",
      "├──────────────────────────────────────┼──────────────────────────────────────┼──────────────────────────────────────┼──────────────────────────────────────┼──────────────────────────────────────┼──────────────────────────────────────┼──────────────────────────────────────┼────────────────────────────┼──────────────────────────┼──────────┤\n",
      "│ e60fb77e-da82-443d-9f84-960c3085b82a │ 6743465d-1985-4e26-a7e8-d9a5c542ea90 │ 79a81a50-3045-47b6-84ae-8cd2d981845e │ 89adf30d-8e1e-4dd5-99c0-e4ab9dcbcf90 │ 4e28eb04-a019-4fe6-aa43-51b001d8ed9c │ 5889b336-025b-4920-b738-712fb1398883 │ 82671a89-8f85-4667-b222-7bbd52e502f7 │ 2023-10-30 03:06:38.424-07 │ NULL                     │ archived │\n",
      "└──────────────────────────────────────┴──────────────────────────────────────┴──────────────────────────────────────┴──────────────────────────────────────┴──────────────────────────────────────┴──────────────────────────────────────┴──────────────────────────────────────┴────────────────────────────┴──────────────────────────┴──────────┘\n",
      "\n"
     ]
    }
   ],
   "source": [
    "# Application\n",
    "# archived\n",
    "# 0ba8eb29-b003-4f4c-806c-be150b2c731b \n",
    "# hired\n",
    "# 5ffad0ba-27b7-4156-8751-bb7d394434dc\n",
    "# negative application\n",
    "# e60fb77e-da82-443d-9f84-960c3085b82a\n",
    "db.sql(\"\"\"\n",
    "    SELECT \n",
    "        *\n",
    "    FROM stg_applications\n",
    "    where id = 'e60fb77e-da82-443d-9f84-960c3085b82a'\n",
    "    limit 10\n",
    "    \"\"\").show(max_width=10000)"
   ]
  },
  {
   "cell_type": "code",
   "execution_count": 39,
   "metadata": {},
   "outputs": [
    {
     "name": "stdout",
     "output_type": "stream",
     "text": [
      "┌──────────────────────────────────────┬──────────────────────────────────────┬──────────────────────────────────────┬──────────────────────────────────────┬──────────────────────────────────────┬────────────────────────────┬────────────────────────────┬───────────────────────────┐\n",
      "│                  ID                  │            APPLICATION_ID            │        NEW_INTERVIEW_STAGE_ID        │           ORGANIZATION_ID            │     PREVIOUS_INTERVIEW_STAGE_ID      │         created_at         │      entered_stage_at      │       left_stage_at       │\n",
      "│               varchar                │               varchar                │               varchar                │               varchar                │               varchar                │  timestamp with time zone  │  timestamp with time zone  │ timestamp with time zone  │\n",
      "├──────────────────────────────────────┼──────────────────────────────────────┼──────────────────────────────────────┼──────────────────────────────────────┼──────────────────────────────────────┼────────────────────────────┼────────────────────────────┼───────────────────────────┤\n",
      "│ 5997f4e7-a188-4017-a908-b1b7dd61430f │ e60fb77e-da82-443d-9f84-960c3085b82a │ 3d30407d-bf4d-4cf9-9a70-44d30540c65d │ 79a81a50-3045-47b6-84ae-8cd2d981845e │ NULL                                 │ 2023-10-30 03:06:38.678-07 │ 2023-10-30 03:06:38.424-07 │ 2023-10-30 03:06:41.27-07 │\n",
      "│ 19ca43d3-ea69-40ad-b13f-6ea59701caa7 │ e60fb77e-da82-443d-9f84-960c3085b82a │ 5889b336-025b-4920-b738-712fb1398883 │ 79a81a50-3045-47b6-84ae-8cd2d981845e │ 3d30407d-bf4d-4cf9-9a70-44d30540c65d │ 2023-10-30 03:06:41.272-07 │ 2023-10-30 03:06:41.272-07 │ NULL                      │\n",
      "└──────────────────────────────────────┴──────────────────────────────────────┴──────────────────────────────────────┴──────────────────────────────────────┴──────────────────────────────────────┴────────────────────────────┴────────────────────────────┴───────────────────────────┘\n",
      "\n"
     ]
    }
   ],
   "source": [
    "# Stage Transitions\n",
    "# archived\n",
    "# 0ba8eb29-b003-4f4c-806c-be150b2c731b\n",
    "# hired\n",
    "# 5ffad0ba-27b7-4156-8751-bb7d394434dc\n",
    "# negative application\n",
    "# e60fb77e-da82-443d-9f84-960c3085b82a\n",
    "db.sql(\"\"\"\n",
    "    SELECT \n",
    "        *\n",
    "    FROM stg_stage_transitions\n",
    "    where application_id = 'e60fb77e-da82-443d-9f84-960c3085b82a'\n",
    "    limit 10\n",
    "    \"\"\").show(max_width=10000)"
   ]
  },
  {
   "cell_type": "code",
   "execution_count": 40,
   "metadata": {},
   "outputs": [
    {
     "name": "stdout",
     "output_type": "stream",
     "text": [
      "┌──────────────────────────────────────┬──────────────────────────────────────┬──────────────────────────────────────┬──────────────────────────────────────┬────────────────────────────┬───────────────────┬────────────────────┬────────────────────┬─────────────┬────────────────────┬────────────────────┬─────────────┐\n",
      "│               STAGE_ID               │       INTERVIEW_STAGE_GROUP_ID       │           ORGANIZATION_ID            │            STAGE_GROUP_ID            │         created_at         │ STAGE_GROUP_ORDER │ STAGE_GROUP_TITLE  │  stage_group_type  │ STAGE_ORDER │     STAGE_TYPE     │       TITLE        │ is_archived │\n",
      "│               varchar                │               varchar                │               varchar                │               varchar                │  timestamp with time zone  │       int64       │      varchar       │      varchar       │    int64    │      varchar       │      varchar       │   boolean   │\n",
      "├──────────────────────────────────────┼──────────────────────────────────────┼──────────────────────────────────────┼──────────────────────────────────────┼────────────────────────────┼───────────────────┼────────────────────┼────────────────────┼─────────────┼────────────────────┼────────────────────┼─────────────┤\n",
      "│ 3d30407d-bf4d-4cf9-9a70-44d30540c65d │ 720daa24-da4a-497b-83e4-992f915acab5 │ 79a81a50-3045-47b6-84ae-8cd2d981845e │ 720daa24-da4a-497b-83e4-992f915acab5 │ 2023-10-12 21:56:00.515-07 │                 3 │ Application Review │ preinterviewscreen │           3 │ PreInterviewScreen │ Application Review │ false       │\n",
      "│ 5889b336-025b-4920-b738-712fb1398883 │ 4cb3a9fa-1ef5-45fc-bf45-1e7aa871cda2 │ 79a81a50-3045-47b6-84ae-8cd2d981845e │ 4cb3a9fa-1ef5-45fc-bf45-1e7aa871cda2 │ 2023-10-12 21:56:00.515-07 │              1006 │ Archived           │ archived           │        1009 │ Archived           │ Archived           │ false       │\n",
      "└──────────────────────────────────────┴──────────────────────────────────────┴──────────────────────────────────────┴──────────────────────────────────────┴────────────────────────────┴───────────────────┴────────────────────┴────────────────────┴─────────────┴────────────────────┴────────────────────┴─────────────┘\n",
      "\n"
     ]
    }
   ],
   "source": [
    "# Stage Information\n",
    "# archived\n",
    "# ('ec228221-57a2-47ec-8d12-e76bb3c11463', 'abe0f89d-8119-41ac-a0e4-44aa2ca0f21f', 'c7441dc6-f3d0-40cc-8404-cce9c5586651')\n",
    "# hired\n",
    "# ('636f502a-b51f-4ad0-9f20-b192555ff3ce', 'cbd7f502-b563-4af3-936c-fd89609436ee', 'a7c5c894-b219-4c66-87d5-0571385630d8', 'c5b39dfc-5776-4e7d-aec5-c0457b4167af', '2dfacf06-cd92-4e0f-8029-b47f8890d141')\n",
    "# negative application\n",
    "# ('0879eb7a-1191-4656-b318-3ea1cc046e6e', '1c632eda-c66c-4fa7-9ad3-03f77200d01a')\n",
    "db.sql(\"\"\"\n",
    "    SELECT \n",
    "        *\n",
    "    FROM stg_interview_stages_and_groups\n",
    "    where stage_id in ('3d30407d-bf4d-4cf9-9a70-44d30540c65d', '5889b336-025b-4920-b738-712fb1398883')\n",
    "    limit 10\n",
    "    \"\"\").show(max_width=10000)"
   ]
  }
 ],
 "metadata": {
  "kernelspec": {
   "display_name": ".venv",
   "language": "python",
   "name": "python3"
  },
  "language_info": {
   "codemirror_mode": {
    "name": "ipython",
    "version": 3
   },
   "file_extension": ".py",
   "mimetype": "text/x-python",
   "name": "python",
   "nbconvert_exporter": "python",
   "pygments_lexer": "ipython3",
   "version": "3.12.3"
  }
 },
 "nbformat": 4,
 "nbformat_minor": 2
}
