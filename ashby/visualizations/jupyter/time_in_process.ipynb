{
 "cells": [
  {
   "cell_type": "markdown",
   "metadata": {},
   "source": [
    "# Time In Process\n",
    "This Jupyter Notebook address the questions mentioned in the prompts for the Ashby take home test.  The questions are:\n",
    "1. What is the company's Time in Process? Is that good or bad?\n",
    "1. How is the company's Time in Process trending?\n",
    "1. How does the company's Time in Process vary across myriad segments?\n",
    "    - For example, Time in Proccess by department, location, application outcome, etc.\n",
    "1. What is the average or median Time in Process for specific stages or stage groups?\n",
    "\n",
    "Additional points to consider:\n",
    "- It is best to focus results and analysis at the stage group level.\n",
    "- It is common for a candidate's application to enter a given stage more than once.\n",
    "- While there is no bad data, data can be removed if it appears erroneous, but documentation is required for the removal.\n",
    "- Customer Success team doesn't have the ability to create their own datasets or visualization content, but can apply filters or updates to content provided for them."
   ]
  },
  {
   "cell_type": "markdown",
   "metadata": {},
   "source": [
    "## What is the company's Time in Process?"
   ]
  },
  {
   "cell_type": "code",
   "execution_count": null,
   "metadata": {},
   "outputs": [],
   "source": [
    "import duckdb\n",
    "\n",
    "duckdb.connect(\"../../database/ashby.db\", read_only= True)\n"
   ]
  }
 ],
 "metadata": {
  "language_info": {
   "name": "python"
  }
 },
 "nbformat": 4,
 "nbformat_minor": 2
}
